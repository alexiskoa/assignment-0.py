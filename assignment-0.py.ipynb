{
 "cells": [
  {
   "cell_type": "code",
   "execution_count": 10,
   "id": "e1115acd",
   "metadata": {},
   "outputs": [
    {
     "name": "stdout",
     "output_type": "stream",
     "text": [
      "Enter x here: 2\n",
      "Enter y here: 3\n",
      "Enter z here: 4\n",
      "The average of x, y, and z is  3.0\n"
     ]
    }
   ],
   "source": [
    "'''Assignment 0\n",
    "This assignment is a giveaway assignment.\n",
    "By completing this assignment, you will familiarize yourself with this\n",
    "    course's submission mechanics.\n",
    "'''\n",
    "\n",
    "def three_number_average(x, y, z):\n",
    "    '''Item 1.\n",
    "    Three Number Average. 3 points.\n",
    "    Returns the average of three numbers.\n",
    "    Parameters\n",
    "    ----------\n",
    "    x: int\n",
    "        the first number\n",
    "    y: int\n",
    "        the second number\n",
    "    z: int\n",
    "        the third number\n",
    "    Returns\n",
    "    -------\n",
    "    float\n",
    "        the average of x, y, and z\n",
    "    '''\n",
    "    # Write your code below this line\n",
    "\n",
    "x = int(input(\"Enter x here: \")) \n",
    "\n",
    "y = int(input(\"Enter y here: \"))\n",
    "\n",
    "z = int(input(\"Enter z here: \"))\n",
    "\n",
    "average = float((x+y+z)/3)\n",
    "\n",
    "print(\"The average of x, y, and z is \", average)"
   ]
  },
  {
   "cell_type": "code",
   "execution_count": null,
   "id": "36549b36",
   "metadata": {},
   "outputs": [],
   "source": []
  }
 ],
 "metadata": {
  "kernelspec": {
   "display_name": "Python 3 (ipykernel)",
   "language": "python",
   "name": "python3"
  },
  "language_info": {
   "codemirror_mode": {
    "name": "ipython",
    "version": 3
   },
   "file_extension": ".py",
   "mimetype": "text/x-python",
   "name": "python",
   "nbconvert_exporter": "python",
   "pygments_lexer": "ipython3",
   "version": "3.9.7"
  }
 },
 "nbformat": 4,
 "nbformat_minor": 5
}
